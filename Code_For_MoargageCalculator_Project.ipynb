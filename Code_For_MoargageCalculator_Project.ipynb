{
 "cells": [
  {
   "cell_type": "markdown",
   "id": "7b04a69c",
   "metadata": {},
   "source": []
  },
  {
   "cell_type": "code",
   "execution_count": 20,
   "id": "10542181",
   "metadata": {},
   "outputs": [
    {
     "name": "stdout",
     "output_type": "stream",
     "text": [
      "Please enter your name: Godfrey\n",
      "Godfrey, Welcome to ZANACO BANK MORGAGE LOAN CALCULATOR\n",
      "Please enter the principal loan amount: 100000\n",
      "Please enter the annual interest rate: 7.5\n",
      "Effective Monthly interest rate percentage: 0.00625%\n",
      "Please  enter the number of years: 30\n",
      "For a 30-year mortgage loan of $100000\n",
      "You will pay: $699.21 Monthly\n",
      "Total amount paid will be $251717.22\n"
     ]
    }
   ],
   "source": [
    "# Godfrey Chilebe Week five individual programming project \n",
    "#mortgage calculator\n",
    "#principal_p\n",
    "# percent annual interest_i\n",
    "#year to pay off mortgage_\n",
    "#formula_M = P[i(1+i)**n]/[(1+i)**n-1]\n",
    "# display monthly payment\n",
    "# display total monthly payment $699.21 \n",
    "#Total amount paid will be $251,717.22\n",
    "\n",
    "#enter loan applicant name\n",
    "loan_applicant_name= input('Please enter your name: ')\n",
    "\n",
    "#print a welcome message based on the loan applicant nme\n",
    "print(f'{loan_applicant_name}, Welcome to ZANACO BANK MORGAGE LOAN CALCULATOR')\n",
    "\n",
    "#Enter the desired loan amount and set it to the variable P to be used later on in the calculation formula\n",
    "principal_loan_amount = int(input('Please enter the principal loan amount: ')) \n",
    "p= principal_loan_amount \n",
    "\n",
    "#caluclate the effective monthly interest rate based on the posted annual interest rate\n",
    "monthly_interest_rate_percentage= input('Please enter the annual interest rate: ')\n",
    "i= float(monthly_interest_rate_percentage)/1200\n",
    "print(f'Effective Monthly interest rate percentage: {i:.5f}%')\n",
    "years =  int(input('Please  enter the number of years: '))\n",
    "total_number_of_months= 12*years\n",
    "n=total_number_of_months\n",
    "\n",
    "#print out a formatted message displayingthe principal loan sought and and the desired repayment period by the applicant\n",
    "print(f'For a {years}-year mortgage loan of ${principal_loan_amount}')\n",
    "\n",
    "principal_loan_amount==p and monthly_interest_rate_percentage==i and total_number_of_months==n \n",
    "\n",
    "#formula for the calculation of monthly repayment instalment\n",
    "total_monthly_payment=p*(i*(1+i)**(n))/((1+i)**n-1)\n",
    "\n",
    "#print out the formatted monthly repayment amount\n",
    "print(f'You will pay: ${total_monthly_payment:.2f} Monthly')\n",
    "\n",
    "total_amount= 12*30*total_monthly_payment\n",
    "print(f'Total amount paid will be ${total_amount:.2f}')"
   ]
  },
  {
   "cell_type": "code",
   "execution_count": null,
   "id": "c66e23af",
   "metadata": {},
   "outputs": [],
   "source": []
  }
 ],
 "metadata": {
  "kernelspec": {
   "display_name": "Python 3 (ipykernel)",
   "language": "python",
   "name": "python3"
  },
  "language_info": {
   "codemirror_mode": {
    "name": "ipython",
    "version": 3
   },
   "file_extension": ".py",
   "mimetype": "text/x-python",
   "name": "python",
   "nbconvert_exporter": "python",
   "pygments_lexer": "ipython3",
   "version": "3.11.1"
  }
 },
 "nbformat": 4,
 "nbformat_minor": 5
}
